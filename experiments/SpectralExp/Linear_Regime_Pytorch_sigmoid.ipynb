{
  "nbformat": 4,
  "nbformat_minor": 0,
  "metadata": {
    "accelerator": "GPU",
    "colab": {
      "name": "Linear Regime Pytorch sigmoid.ipynb",
      "provenance": [],
      "collapsed_sections": [],
      "machine_shape": "hm"
    },
    "kernelspec": {
      "display_name": "Python 3",
      "name": "python3"
    },
    "language_info": {
      "name": "python"
    }
  },
  "cells": [
    {
      "cell_type": "code",
      "metadata": {
        "id": "WcoxLuiYhxrb"
      },
      "source": [
        "import numpy as np\n",
        "import numpy.random as npr\n",
        "\n",
        "from tqdm import tqdm\n",
        "\n",
        "%matplotlib inline\n",
        "import matplotlib \n",
        "matplotlib.use('pdf')\n",
        "from mpl_toolkits import mplot3d\n",
        "import matplotlib.pyplot as plt\n",
        "plt.style.use('seaborn-white')\n",
        "\n",
        "import torch\n",
        "device = torch.device('cuda' if torch.cuda.is_available() else 'cpu')"
      ],
      "execution_count": null,
      "outputs": []
    },
    {
      "cell_type": "code",
      "metadata": {
        "id": "NJwdemW7JO3I"
      },
      "source": [
        "# Histogram eigenvalues of each X'X\n",
        "def histeig(eigs, ax, xgrid=None, dgrid=None, bins=100, xlim=None, ylim=None, title=None):\n",
        "    if xlim is not None:\n",
        "        eigs = eigs[np.nonzero(eigs <= xlim[1])[0]]\n",
        "        h = ax.hist(eigs, bins=np.linspace(xlim[0], xlim[1], num=bins))\n",
        "    else:\n",
        "        h = ax.hist(eigs, bins=bins)\n",
        "    if xgrid is not None:\n",
        "        space = h[1][1] - h[1][0]\n",
        "        ax.plot(xgrid, dgrid * len(eigs) * space, 'r', label='Prediction at initial', linewidth=2)\n",
        "        ax.legend()\n",
        "    ax.set_title(title, fontsize=12)\n",
        "    ax.set_xlim(xlim)\n",
        "    if ylim is None:\n",
        "        ax.set_ylim([0, max(h[0]) * 1.5])\n",
        "    else:\n",
        "        ax.set_ylim(ylim)\n",
        "    return ax"
      ],
      "execution_count": null,
      "outputs": []
    },
    {
      "cell_type": "markdown",
      "metadata": {
        "id": "SLMsXvmDiRme"
      },
      "source": [
        "**Activation Functions**"
      ]
    },
    {
      "cell_type": "code",
      "metadata": {
        "id": "hHf2lvVniLkf"
      },
      "source": [
        "def lin(X):\n",
        "  return X\n",
        "# relu\n",
        "# b0 = 1/4\n",
        "# b1 = 1/4\n",
        "def relu(X,normalize=True):\n",
        "    X[X<0] = 0\n",
        "    if normalize:\n",
        "        return np.sqrt(2*np.pi/(np.pi-1))*(X-1/np.sqrt(2*np.pi))\n",
        "    else:\n",
        "        return X\n",
        "\n",
        "def relu_grad(X,normalize=True):\n",
        "    X[X<0] = 0\n",
        "    X[X>0] = 1\n",
        "    if normalize:\n",
        "        X[X>0] = np.sqrt(2*np.pi/(np.pi-1))\n",
        "    return X\n",
        "\n",
        "# softplus\n",
        "# b0 = 1/4\n",
        "# b1 = 0.043379\n",
        "SP = torch.nn.Softplus()\n",
        "def softplus(X,normalize=True):\n",
        "    if normalize:\n",
        "        c0 = 0.806059\n",
        "        c1 = 0.271514\n",
        "        return (SP(X)-c0) / (c1)**0.5\n",
        "    else:\n",
        "        return SP(X)\n",
        "\n",
        "def softplus_grad(X,normalize=True):\n",
        "    if normalize:\n",
        "        c1 = 0.271514\n",
        "        return torch.sigmoid(X) / (c1)**0.5\n",
        "    else:\n",
        "        return torch.sigmoid(X)\n",
        "\n",
        "# sigmoid\n",
        "# b0=0.042692\n",
        "# b1 =0.002144 \n",
        "def sigmoid(X,normalize=True):\n",
        "    X = torch.sigmoid(X)\n",
        "    if normalize:\n",
        "        c = np.sqrt(0.21747 / (2 * np.sqrt(2 * np.pi)))\n",
        "        return (X-0.5)/c\n",
        "    else:\n",
        "        return X\n",
        "\n",
        "def sigmoid_grad(X,normalize=True):\n",
        "    X = torch.sigmoid(X)\n",
        "    if normalize:\n",
        "        c = np.sqrt(0.21747 / (2 * np.sqrt(2 * np.pi)))\n",
        "        return X * (1-X) / c\n",
        "    else:\n",
        "        return X * (1-X)\n",
        "\n",
        "def tanh(X,normalize=False):\n",
        "    X = torch.tanh(X)\n",
        "    if normalize:\n",
        "        c = 0.627928\n",
        "        return X / c\n",
        "    else:\n",
        "        c = 5\n",
        "        return X * c\n",
        "\n",
        "def tanh_grad(X,normalize=False):\n",
        "    X = torch.tanh(X)\n",
        "    if normalize:\n",
        "        c = 0.627928\n",
        "        return (1 - X**2) / c\n",
        "    else:\n",
        "        c = 5\n",
        "        return (1 - X**2) * c\n",
        "\n",
        "def quadratic(X,normalize=True):\n",
        "    if normalize:\n",
        "        return (X**2-1) / np.sqrt(2)\n",
        "    else:\n",
        "        return X**2 / 2\n",
        "\n",
        "def quadratic_grad(X,normalize=True):\n",
        "    if normalize:\n",
        "        return np.sqrt(2)*X\n",
        "    else:\n",
        "        return X"
      ],
      "execution_count": null,
      "outputs": []
    },
    {
      "cell_type": "markdown",
      "metadata": {
        "id": "h5110edzYgxG"
      },
      "source": [
        "# Student Model\n",
        "\n",
        "**Two-layer Neural Network:** \n",
        "\n",
        "$f(\\mathbf{x}) = \\sum_{i=1}^h a_i\\phi(\\langle \\mathbf{x},\\mathbf{w}_i\\rangle)$. $\\mathbf{w}_i\\in\\mathbb{R}^d$. \n",
        "\n",
        "\\\\\n",
        "**Initialization:** \n",
        "\n",
        "- $w_{ij} \\sim \\mathcal{N}(0,d^{-2\\alpha_1})$.\n",
        "\n",
        "- $a_i \\sim \\mathcal{N}(0,h^{-2\\alpha_2})$. \n",
        "\n",
        "**Note:** \n",
        "\n",
        "- $\\alpha_2=1  \\Rightarrow$  mean-field regime.\n",
        "- $\\alpha_1=\\alpha_2=1/2  \\Rightarrow$  kernel regime.\n",
        "\n",
        "**Current Setting:** $\\alpha_1 = 1/2, \\alpha_2 = 1/2$. \n",
        "\n",
        "\\\\\n",
        "\n",
        "# Proportional limit\n",
        "\n",
        "- Let $n$ be the number of training sample size.\n",
        "-  $\\gamma_1:=\\lim d/n\\in (0,\\infty)$ as $n\\to \\infty$.\n",
        "- $\\gamma_2:=\\lim h/n\\in (0,\\infty)$ as $n\\to \\infty$.\n",
        "\n",
        "\\\\\n",
        "\n",
        "# Gradient Update\n",
        "\n",
        "- $a_{t+1} = a_t - \\eta\\nabla_a L(f)$.\n",
        "- $w_{t+1} = w_t - \\eta\\nabla_w L(f)$.\n",
        "\n"
      ]
    },
    {
      "cell_type": "code",
      "metadata": {
        "id": "eCThV4dcYZOw"
      },
      "source": [
        "# activation function\n",
        "act = sigmoid\n",
        "grad = sigmoid_grad\n",
        "\n",
        "# parameterization\n",
        "mean_field = False\n",
        "\n",
        "# scaling of parameters\n",
        "alpha1 = 0.5\n",
        "alpha2 = 0.5\n",
        "\n",
        "train_2nd = True"
      ],
      "execution_count": null,
      "outputs": []
    },
    {
      "cell_type": "markdown",
      "metadata": {
        "id": "7domH4BZYrWn"
      },
      "source": [
        "**Initialization**"
      ]
    },
    {
      "cell_type": "markdown",
      "metadata": {
        "id": "7DAgr7gWiWau"
      },
      "source": [
        "# Data Distribution\n",
        "**Single-index Target Function on Unit Gaussian Input**. \n",
        "\n",
        "+ $\\mathbf{x}\\sim\\mathcal{N}(0,\\mathbf{I}_d)$.\n",
        "+ $y = \\phi(\\langle\\mathbf{x},\\mathbf{\\theta}_*\\rangle)$. $\\mathbf{\\theta}_*$ can exhibit certain sparse structure \n"
      ]
    },
    {
      "cell_type": "code",
      "metadata": {
        "id": "FxujtC2xiU82"
      },
      "source": [
        "def unit_Gaussian(n,d):\n",
        "    return torch.FloatTensor(n,d).normal_(mean=0,std=1).to(device)  \n",
        "\n",
        "def single_index(n,d,n1,sigma=0.1,nonlin=relu):\n",
        "    X = unit_Gaussian(n,d)\n",
        "    X_test = unit_Gaussian(n1,d)\n",
        "    theta = torch.FloatTensor(d,1).normal_(mean=0,std=1).to(device)  \n",
        "    theta = theta / torch.norm(theta)\n",
        "    if sigma == 0:\n",
        "        return X, nonlin(X@theta), X_test, nonlin(X_test@theta)\n",
        "    else:\n",
        "        return X, nonlin(X@theta) + torch.FloatTensor(n,1).normal_(mean=0,std=sigma).to(device), X_test, nonlin(X_test@theta)\n",
        "\n",
        "def multi_index(n,d,n1,sigma=0.1,ind=1,nonlin=relu):\n",
        "    X = unit_Gaussian(n,d)\n",
        "    X_test = unit_Gaussian(n1,d)\n",
        "    theta = torch.FloatTensor(d,ind).normal_(mean=0,std=1).to(device) \n",
        "    theta = theta / torch.norm(theta)\n",
        "    a = torch.ones([ind,1]).to(device) / (ind**0.5)\n",
        "    Y = nonlin(X@theta)@a\n",
        "    Y_test = nonlin(X_test@theta)@a\n",
        "    if sigma == 0:\n",
        "        return X, Y, X_test, Y_test\n",
        "    else:\n",
        "        return X, Y + torch.FloatTensor(n,1).normal_(mean=0,std=sigma).to(device), X_test, Y_test\n"
      ],
      "execution_count": null,
      "outputs": []
    },
    {
      "cell_type": "markdown",
      "metadata": {
        "id": "lNJfIdSm_F08"
      },
      "source": [
        "**Training Data**"
      ]
    },
    {
      "cell_type": "code",
      "metadata": {
        "colab": {
          "base_uri": "https://localhost:8080/"
        },
        "id": "CLbcqnX2_EWN",
        "outputId": "1eb6fc50-153f-4dd6-9dd0-1bb73709256b"
      },
      "source": [
        "SNR = 12\n",
        "# std of Gaussian\n",
        "sigma = (1/SNR)**0.5\n",
        "# sparsity of target function\n",
        "spar = 1\n",
        "\n",
        "print(\"SNR: %f\" % (SNR))\n",
        "print(\"noise: %f\" % (sigma))"
      ],
      "execution_count": null,
      "outputs": [
        {
          "output_type": "stream",
          "text": [
            "SNR: 12.000000\n",
            "noise: 0.288675\n"
          ],
          "name": "stdout"
        }
      ]
    },
    {
      "cell_type": "markdown",
      "metadata": {
        "id": "ffXy_3l02A23"
      },
      "source": [
        "# Training Procedure\n",
        "\n",
        "**Squared Loss:** \n",
        "$L(f) = \\frac{1}{n}\\sum_{i=1}^n (y_i - f(\\mathbf{x}_i))^2$.\n",
        "\n",
        "OR\n",
        "\n",
        "**Logistic Loss:** \n",
        "$L(f) = \\frac{1}{n}\\sum_{i=1}^n \\text{log}(1 + \\text{exp}(-y_i\\cdot f(\\mathbf{x}_i)))$.\n",
        "\n",
        "\\\\\n",
        "\n",
        "**$\\ell_2$ Regularization:**  \n",
        "$R(f) = \\lambda(\\|\\mathbf{W}\\|^2_F + \\|\\mathbf{a}\\|_2^2)$."
      ]
    },
    {
      "cell_type": "code",
      "metadata": {
        "id": "65ug5tDsoZQy"
      },
      "source": [
        "# Y1 - true labels\n",
        "# Y2 - model prediction\n",
        "\n",
        "def mse(Y1,Y2):\n",
        "    return torch.mean((Y1-Y2)**2)\n",
        "\n",
        "def logistic(Y1,Y2):\n",
        "    return torch.mean(SP(-Y1*Y2))\n",
        "\n",
        "def mse_grad(Y1,Y2):\n",
        "    return Y1 - Y2\n",
        "\n",
        "def logistic_grad(Y1,Y2):\n",
        "    return Y1 * torch.sigmoid(-Y1 * Y2)\n",
        "\n",
        "\n",
        "# ------------------------------------\n",
        "# Choose objective\n",
        "\n",
        "loss_fn = mse\n",
        "loss_grad = mse_grad"
      ],
      "execution_count": null,
      "outputs": []
    },
    {
      "cell_type": "markdown",
      "metadata": {
        "id": "krNoZ775VMhg"
      },
      "source": [
        "**Training Neural Networks**"
      ]
    },
    {
      "cell_type": "code",
      "metadata": {
        "colab": {
          "background_save": true
        },
        "id": "xKFSzm4LHiZg",
        "outputId": "330be520-940b-4021-f1ad-a3b7a2c2d297"
      },
      "source": [
        "gamma1 = 0.1 # gamma1 = d/n\n",
        "gamma2 = 0.5 # gamma2 = h/n\n",
        "\n",
        "# L2 regularization\n",
        "lda = 0\n",
        "# Learning rate\n",
        "eta = 0.2\n",
        "# Max step size\n",
        "n_max = 6100\n",
        "n_min = 1000\n",
        "# Number of steps\n",
        "steps = 1000\n",
        "\n",
        "# --------------------------------------------\n",
        "runs = 5\n",
        "inc= 300\n",
        "n_list = np.arange(n_min,n_max,inc)\n",
        "\n",
        "NN_loss = np.zeros([len(n_list),runs,2])\n",
        "NN_weight_diff = np.zeros([len(n_list),runs,7])\n",
        "\n",
        "for i in tqdm(range(len(n_list))):\n",
        "    n = n_list[i]\n",
        "    print(n)\n",
        "    d = int(n*gamma1)\n",
        "    h = int(n*gamma2)\n",
        "    # training and test data with noise\n",
        "    X,Y,X_test,Y_test = multi_index(n,d,int(2*n/3),sigma=sigma,ind=1,nonlin=lin)\n",
        "    for j in tqdm(range(runs)):\n",
        "          W = torch.FloatTensor(d,h).normal_(mean=0,std=(1/d)**alpha1).to(device)\n",
        "          b = torch.FloatTensor(h,1).normal_(mean=0,std=(1/h)**alpha2).to(device)\n",
        "          _,s0,_ = torch.svd(torch.t(W)@W)\n",
        "          Ws = W.clone()\n",
        "          bs = b.clone()\n",
        "          XX = X@torch.t(X) / d\n",
        "          CK0 = act(X@W)@torch.t(act(X@W)) / h\n",
        "          eta_w = eta\n",
        "          eta_b = eta\n",
        "          XW_grad0 = grad(X@W)\n",
        "          S0 = XW_grad0*((torch.ones(n, 1).to(device))@torch.t(b))\n",
        "          RF0 = S0@torch.t(S0)\n",
        "          NTK0 = XX * RF0\n",
        "          if train_2nd:\n",
        "              NTK0 = NTK0 + CK0\n",
        "          for k in range(steps):\n",
        "              ys = act(X@Ws)@bs\n",
        "              # update parameters\n",
        "              dW = torch.t(X) @ (loss_grad(Y, ys) @ torch.t(bs) * grad(X@Ws)) / n\n",
        "              Ws = Ws + eta_w * (dW - lda*Ws)\n",
        "\n",
        "              if train_2nd:\n",
        "                  db = torch.t(X@Ws)@loss_grad(Y, ys) / n\n",
        "                  bs = bs + eta_b * (db - lda*bs)\n",
        "          XW = act(X@Ws)\n",
        "          y_NN = act(X_test@Ws)@bs\n",
        "          NN_loss[i,j,0] = loss_fn(ys,Y)\n",
        "          NN_loss[i,j,1] = loss_fn(y_NN,Y_test)\n",
        "          _,s1,_ = torch.svd(torch.t(Ws)@Ws)\n",
        "          NN_weight_diff[i,j,0] = torch.abs(s1[0]-s0[0])\n",
        "          NN_weight_diff[i,j,1] = torch.linalg.norm(Ws-W, ord=2)\n",
        "          NN_weight_diff[i,j,2] = torch.linalg.norm(Ws-W, ord='fro')\n",
        "          # CK model\n",
        "          CK1 = act(X@Ws)@torch.t(act(X@Ws)) / h\n",
        "          NN_weight_diff[i,j,3] = torch.linalg.norm(CK1-CK0, ord=2)\n",
        "          NN_weight_diff[i,j,4] = torch.linalg.norm(CK1-CK0, ord='fro')\n",
        "          # NTK model\n",
        "          XW_grad = grad(X@Ws)\n",
        "          S = XW_grad*((torch.ones(n, 1).to(device))@torch.t(bs))\n",
        "          RF = S@torch.t(S)\n",
        "          NTKs = XX * RF\n",
        "          if train_2nd:\n",
        "              NTKs = NTKs + CK1\n",
        "          NN_weight_diff[i,j,5] = torch.linalg.norm(NTKs-NTK0, ord=2)\n",
        "          NN_weight_diff[i,j,6] = torch.linalg.norm(NTKs-NTK0, ord='fro')\n",
        "          print(\"-------------------------------------------------\")\n",
        "          print(\"dimesion: %d; Training Loss: %f\" % (n,loss_fn(ys,Y)))\n"
      ],
      "execution_count": null,
      "outputs": [
        {
          "output_type": "stream",
          "text": [
            "\r  0%|          | 0/17 [00:00<?, ?it/s]"
          ],
          "name": "stderr"
        },
        {
          "output_type": "stream",
          "text": [
            "1000\n"
          ],
          "name": "stdout"
        },
        {
          "output_type": "stream",
          "text": [
            "\n",
            "  0%|          | 0/5 [00:00<?, ?it/s]\u001b[A\n",
            " 20%|██        | 1/5 [00:00<00:03,  1.20it/s]\u001b[A"
          ],
          "name": "stderr"
        },
        {
          "output_type": "stream",
          "text": [
            "-------------------------------------------------\n",
            "dimesion: 1000; Training Loss: 0.036008\n"
          ],
          "name": "stdout"
        },
        {
          "output_type": "stream",
          "text": [
            "\n",
            " 40%|████      | 2/5 [00:01<00:02,  1.28it/s]\u001b[A"
          ],
          "name": "stderr"
        },
        {
          "output_type": "stream",
          "text": [
            "-------------------------------------------------\n",
            "dimesion: 1000; Training Loss: 0.037213\n"
          ],
          "name": "stdout"
        },
        {
          "output_type": "stream",
          "text": [
            "\n",
            " 60%|██████    | 3/5 [00:02<00:01,  1.31it/s]\u001b[A"
          ],
          "name": "stderr"
        },
        {
          "output_type": "stream",
          "text": [
            "-------------------------------------------------\n",
            "dimesion: 1000; Training Loss: 0.035270\n"
          ],
          "name": "stdout"
        },
        {
          "output_type": "stream",
          "text": [
            "\n",
            " 80%|████████  | 4/5 [00:03<00:00,  1.30it/s]\u001b[A"
          ],
          "name": "stderr"
        },
        {
          "output_type": "stream",
          "text": [
            "-------------------------------------------------\n",
            "dimesion: 1000; Training Loss: 0.034497\n"
          ],
          "name": "stdout"
        },
        {
          "output_type": "stream",
          "text": [
            "\n",
            "100%|██████████| 5/5 [00:03<00:00,  1.30it/s]\n",
            "  6%|▌         | 1/17 [00:03<01:01,  3.85s/it]"
          ],
          "name": "stderr"
        },
        {
          "output_type": "stream",
          "text": [
            "-------------------------------------------------\n",
            "dimesion: 1000; Training Loss: 0.036723\n",
            "1300\n"
          ],
          "name": "stdout"
        },
        {
          "output_type": "stream",
          "text": [
            "\n",
            "  0%|          | 0/5 [00:00<?, ?it/s]\u001b[A\n",
            " 20%|██        | 1/5 [00:01<00:06,  1.53s/it]\u001b[A"
          ],
          "name": "stderr"
        },
        {
          "output_type": "stream",
          "text": [
            "-------------------------------------------------\n",
            "dimesion: 1300; Training Loss: 0.035472\n"
          ],
          "name": "stdout"
        },
        {
          "output_type": "stream",
          "text": [
            "\n",
            " 40%|████      | 2/5 [00:03<00:04,  1.53s/it]\u001b[A"
          ],
          "name": "stderr"
        },
        {
          "output_type": "stream",
          "text": [
            "-------------------------------------------------\n",
            "dimesion: 1300; Training Loss: 0.033624\n"
          ],
          "name": "stdout"
        },
        {
          "output_type": "stream",
          "text": [
            "\n",
            " 60%|██████    | 3/5 [00:04<00:03,  1.52s/it]\u001b[A"
          ],
          "name": "stderr"
        },
        {
          "output_type": "stream",
          "text": [
            "-------------------------------------------------\n",
            "dimesion: 1300; Training Loss: 0.033321\n"
          ],
          "name": "stdout"
        },
        {
          "output_type": "stream",
          "text": [
            "\n",
            " 80%|████████  | 4/5 [00:06<00:01,  1.52s/it]\u001b[A"
          ],
          "name": "stderr"
        },
        {
          "output_type": "stream",
          "text": [
            "-------------------------------------------------\n",
            "dimesion: 1300; Training Loss: 0.033373\n"
          ],
          "name": "stdout"
        },
        {
          "output_type": "stream",
          "text": [
            "\n",
            "100%|██████████| 5/5 [00:07<00:00,  1.55s/it]\n",
            " 12%|█▏        | 2/17 [00:11<01:32,  6.15s/it]"
          ],
          "name": "stderr"
        },
        {
          "output_type": "stream",
          "text": [
            "-------------------------------------------------\n",
            "dimesion: 1300; Training Loss: 0.033843\n",
            "1600\n"
          ],
          "name": "stdout"
        },
        {
          "output_type": "stream",
          "text": [
            "\n",
            "  0%|          | 0/5 [00:00<?, ?it/s]\u001b[A\n",
            " 20%|██        | 1/5 [00:02<00:09,  2.32s/it]\u001b[A"
          ],
          "name": "stderr"
        },
        {
          "output_type": "stream",
          "text": [
            "-------------------------------------------------\n",
            "dimesion: 1600; Training Loss: 0.034261\n"
          ],
          "name": "stdout"
        },
        {
          "output_type": "stream",
          "text": [
            "\n",
            " 40%|████      | 2/5 [00:04<00:06,  2.33s/it]\u001b[A"
          ],
          "name": "stderr"
        },
        {
          "output_type": "stream",
          "text": [
            "-------------------------------------------------\n",
            "dimesion: 1600; Training Loss: 0.034734\n"
          ],
          "name": "stdout"
        },
        {
          "output_type": "stream",
          "text": [
            "\n",
            " 60%|██████    | 3/5 [00:07<00:04,  2.34s/it]\u001b[A"
          ],
          "name": "stderr"
        },
        {
          "output_type": "stream",
          "text": [
            "-------------------------------------------------\n",
            "dimesion: 1600; Training Loss: 0.033672\n"
          ],
          "name": "stdout"
        },
        {
          "output_type": "stream",
          "text": [
            "\n",
            " 80%|████████  | 4/5 [00:09<00:02,  2.35s/it]\u001b[A"
          ],
          "name": "stderr"
        },
        {
          "output_type": "stream",
          "text": [
            "-------------------------------------------------\n",
            "dimesion: 1600; Training Loss: 0.034027\n"
          ],
          "name": "stdout"
        },
        {
          "output_type": "stream",
          "text": [
            "\n",
            "100%|██████████| 5/5 [00:11<00:00,  2.35s/it]\n",
            " 18%|█▊        | 3/17 [00:23<02:01,  8.71s/it]"
          ],
          "name": "stderr"
        },
        {
          "output_type": "stream",
          "text": [
            "-------------------------------------------------\n",
            "dimesion: 1600; Training Loss: 0.035779\n",
            "1900\n"
          ],
          "name": "stdout"
        },
        {
          "output_type": "stream",
          "text": [
            "\n",
            "  0%|          | 0/5 [00:00<?, ?it/s]\u001b[A\n",
            " 20%|██        | 1/5 [00:03<00:15,  3.87s/it]\u001b[A"
          ],
          "name": "stderr"
        },
        {
          "output_type": "stream",
          "text": [
            "-------------------------------------------------\n",
            "dimesion: 1900; Training Loss: 0.033881\n"
          ],
          "name": "stdout"
        },
        {
          "output_type": "stream",
          "text": [
            "\n",
            " 40%|████      | 2/5 [00:07<00:11,  3.87s/it]\u001b[A"
          ],
          "name": "stderr"
        },
        {
          "output_type": "stream",
          "text": [
            "-------------------------------------------------\n",
            "dimesion: 1900; Training Loss: 0.032673\n"
          ],
          "name": "stdout"
        },
        {
          "output_type": "stream",
          "text": [
            "\n",
            " 60%|██████    | 3/5 [00:11<00:07,  3.88s/it]\u001b[A"
          ],
          "name": "stderr"
        },
        {
          "output_type": "stream",
          "text": [
            "-------------------------------------------------\n",
            "dimesion: 1900; Training Loss: 0.031737\n"
          ],
          "name": "stdout"
        },
        {
          "output_type": "stream",
          "text": [
            "\n",
            " 80%|████████  | 4/5 [00:15<00:03,  3.90s/it]\u001b[A"
          ],
          "name": "stderr"
        },
        {
          "output_type": "stream",
          "text": [
            "-------------------------------------------------\n",
            "dimesion: 1900; Training Loss: 0.031449\n"
          ],
          "name": "stdout"
        },
        {
          "output_type": "stream",
          "text": [
            "\n",
            "100%|██████████| 5/5 [00:19<00:00,  3.88s/it]\n",
            " 24%|██▎       | 4/17 [00:42<02:48, 12.94s/it]"
          ],
          "name": "stderr"
        },
        {
          "output_type": "stream",
          "text": [
            "-------------------------------------------------\n",
            "dimesion: 1900; Training Loss: 0.033652\n",
            "2200\n"
          ],
          "name": "stdout"
        },
        {
          "output_type": "stream",
          "text": [
            "\n",
            "  0%|          | 0/5 [00:00<?, ?it/s]\u001b[A\n",
            " 20%|██        | 1/5 [00:05<00:22,  5.64s/it]\u001b[A"
          ],
          "name": "stderr"
        },
        {
          "output_type": "stream",
          "text": [
            "-------------------------------------------------\n",
            "dimesion: 2200; Training Loss: 0.031636\n"
          ],
          "name": "stdout"
        },
        {
          "output_type": "stream",
          "text": [
            "\n",
            " 40%|████      | 2/5 [00:11<00:17,  5.68s/it]\u001b[A"
          ],
          "name": "stderr"
        },
        {
          "output_type": "stream",
          "text": [
            "-------------------------------------------------\n",
            "dimesion: 2200; Training Loss: 0.031206\n"
          ],
          "name": "stdout"
        },
        {
          "output_type": "stream",
          "text": [
            "\n",
            " 60%|██████    | 3/5 [00:17<00:11,  5.73s/it]\u001b[A"
          ],
          "name": "stderr"
        },
        {
          "output_type": "stream",
          "text": [
            "-------------------------------------------------\n",
            "dimesion: 2200; Training Loss: 0.032915\n"
          ],
          "name": "stdout"
        },
        {
          "output_type": "stream",
          "text": [
            "\n",
            " 80%|████████  | 4/5 [00:22<00:05,  5.72s/it]\u001b[A"
          ],
          "name": "stderr"
        },
        {
          "output_type": "stream",
          "text": [
            "-------------------------------------------------\n",
            "dimesion: 2200; Training Loss: 0.031514\n"
          ],
          "name": "stdout"
        },
        {
          "output_type": "stream",
          "text": [
            "\n",
            "100%|██████████| 5/5 [00:28<00:00,  5.73s/it]\n",
            " 29%|██▉       | 5/17 [01:11<03:43, 18.61s/it]"
          ],
          "name": "stderr"
        },
        {
          "output_type": "stream",
          "text": [
            "-------------------------------------------------\n",
            "dimesion: 2200; Training Loss: 0.033843\n",
            "2500\n"
          ],
          "name": "stdout"
        },
        {
          "output_type": "stream",
          "text": [
            "\n",
            "  0%|          | 0/5 [00:00<?, ?it/s]\u001b[A\n",
            " 20%|██        | 1/5 [00:08<00:33,  8.37s/it]\u001b[A"
          ],
          "name": "stderr"
        },
        {
          "output_type": "stream",
          "text": [
            "-------------------------------------------------\n",
            "dimesion: 2500; Training Loss: 0.031948\n"
          ],
          "name": "stdout"
        },
        {
          "output_type": "stream",
          "text": [
            " 20%|██        | 1/5 [00:11<00:47, 11.96s/it]\n",
            " 29%|██▉       | 5/17 [01:23<03:20, 16.69s/it]\n"
          ],
          "name": "stderr"
        },
        {
          "output_type": "error",
          "ename": "KeyboardInterrupt",
          "evalue": "ignored",
          "traceback": [
            "\u001b[0;31m---------------------------------------------------------------------------\u001b[0m",
            "\u001b[0;31mKeyboardInterrupt\u001b[0m                         Traceback (most recent call last)",
            "\u001b[0;32m<ipython-input-14-6ba13cd9dbed>\u001b[0m in \u001b[0;36m<module>\u001b[0;34m()\u001b[0m\n\u001b[1;32m     56\u001b[0m           \u001b[0mNN_loss\u001b[0m\u001b[0;34m[\u001b[0m\u001b[0mi\u001b[0m\u001b[0;34m,\u001b[0m\u001b[0mj\u001b[0m\u001b[0;34m,\u001b[0m\u001b[0;36m0\u001b[0m\u001b[0;34m]\u001b[0m \u001b[0;34m=\u001b[0m \u001b[0mloss_fn\u001b[0m\u001b[0;34m(\u001b[0m\u001b[0mys\u001b[0m\u001b[0;34m,\u001b[0m\u001b[0mY\u001b[0m\u001b[0;34m)\u001b[0m\u001b[0;34m\u001b[0m\u001b[0;34m\u001b[0m\u001b[0m\n\u001b[1;32m     57\u001b[0m           \u001b[0mNN_loss\u001b[0m\u001b[0;34m[\u001b[0m\u001b[0mi\u001b[0m\u001b[0;34m,\u001b[0m\u001b[0mj\u001b[0m\u001b[0;34m,\u001b[0m\u001b[0;36m1\u001b[0m\u001b[0;34m]\u001b[0m \u001b[0;34m=\u001b[0m \u001b[0mloss_fn\u001b[0m\u001b[0;34m(\u001b[0m\u001b[0my_NN\u001b[0m\u001b[0;34m,\u001b[0m\u001b[0mY_test\u001b[0m\u001b[0;34m)\u001b[0m\u001b[0;34m\u001b[0m\u001b[0;34m\u001b[0m\u001b[0m\n\u001b[0;32m---> 58\u001b[0;31m           \u001b[0m_\u001b[0m\u001b[0;34m,\u001b[0m\u001b[0ms1\u001b[0m\u001b[0;34m,\u001b[0m\u001b[0m_\u001b[0m \u001b[0;34m=\u001b[0m \u001b[0mtorch\u001b[0m\u001b[0;34m.\u001b[0m\u001b[0msvd\u001b[0m\u001b[0;34m(\u001b[0m\u001b[0mtorch\u001b[0m\u001b[0;34m.\u001b[0m\u001b[0mt\u001b[0m\u001b[0;34m(\u001b[0m\u001b[0mWs\u001b[0m\u001b[0;34m)\u001b[0m\u001b[0;34m@\u001b[0m\u001b[0mWs\u001b[0m\u001b[0;34m)\u001b[0m\u001b[0;34m\u001b[0m\u001b[0;34m\u001b[0m\u001b[0m\n\u001b[0m\u001b[1;32m     59\u001b[0m           \u001b[0mNN_weight_diff\u001b[0m\u001b[0;34m[\u001b[0m\u001b[0mi\u001b[0m\u001b[0;34m,\u001b[0m\u001b[0mj\u001b[0m\u001b[0;34m,\u001b[0m\u001b[0;36m0\u001b[0m\u001b[0;34m]\u001b[0m \u001b[0;34m=\u001b[0m \u001b[0mtorch\u001b[0m\u001b[0;34m.\u001b[0m\u001b[0mabs\u001b[0m\u001b[0;34m(\u001b[0m\u001b[0ms1\u001b[0m\u001b[0;34m[\u001b[0m\u001b[0;36m0\u001b[0m\u001b[0;34m]\u001b[0m\u001b[0;34m-\u001b[0m\u001b[0ms0\u001b[0m\u001b[0;34m[\u001b[0m\u001b[0;36m0\u001b[0m\u001b[0;34m]\u001b[0m\u001b[0;34m)\u001b[0m\u001b[0;34m\u001b[0m\u001b[0;34m\u001b[0m\u001b[0m\n\u001b[1;32m     60\u001b[0m           \u001b[0mNN_weight_diff\u001b[0m\u001b[0;34m[\u001b[0m\u001b[0mi\u001b[0m\u001b[0;34m,\u001b[0m\u001b[0mj\u001b[0m\u001b[0;34m,\u001b[0m\u001b[0;36m1\u001b[0m\u001b[0;34m]\u001b[0m \u001b[0;34m=\u001b[0m \u001b[0mtorch\u001b[0m\u001b[0;34m.\u001b[0m\u001b[0mlinalg\u001b[0m\u001b[0;34m.\u001b[0m\u001b[0mnorm\u001b[0m\u001b[0;34m(\u001b[0m\u001b[0mWs\u001b[0m\u001b[0;34m-\u001b[0m\u001b[0mW\u001b[0m\u001b[0;34m,\u001b[0m \u001b[0mord\u001b[0m\u001b[0;34m=\u001b[0m\u001b[0;36m2\u001b[0m\u001b[0;34m)\u001b[0m\u001b[0;34m\u001b[0m\u001b[0;34m\u001b[0m\u001b[0m\n",
            "\u001b[0;31mKeyboardInterrupt\u001b[0m: "
          ]
        }
      ]
    },
    {
      "cell_type": "code",
      "metadata": {
        "id": "C831R4-bYZwn"
      },
      "source": [
        "plt.figure(0)\n",
        "FONT_SIZE = 12\n",
        "plt.rc('font',size=FONT_SIZE)\n",
        "fig, (ax1,ax2,ax3) = plt.subplots(1,3,figsize=(18,5))\n",
        "bin = 50\n",
        "\n",
        "ax1.errorbar(n_list, np.mean(NN_loss[:,:,0],axis=1), yerr=np.std(NN_loss[:,:,0],axis=1),elinewidth=3,label='NN_train')\n",
        "ax1.errorbar(n_list, np.mean(NN_loss[:,:,1],axis=1), yerr=np.std(NN_loss[:,:,0],axis=1),elinewidth=3,label='NN_test')\n",
        "#ax1.plot(n_list,NN_loss[:,0],color='g',linewidth=3,label='NN_train')\n",
        "#ax1.plot(n_list,NN_loss[:,1],color='r',linewidth=3,label='NN_test')\n",
        "ax1.set_xlabel('Sample Dimension n')\n",
        "ax1.set_ylabel('Training and Test Losses')\n",
        "ax1.title.set_text('Losses $d/n=$%g'% gamma1)\n",
        "ax1.legend()\n",
        "\n",
        "#histeig(s0.cpu().numpy(), ax2, xgrid=None, dgrid=None, bins=bin, xlim=None, ylim=None, title='initial')\n",
        "#histeig(s.cpu().numpy(), ax2, xgrid=None, dgrid=None, bins=bin, xlim=None, ylim=None, title=None)\n",
        "ax2.hist(s0.cpu().numpy(),histtype='stepfilled', alpha=0.2, bins=bin,label='Initialized')\n",
        "ax2.hist(s1.cpu().numpy(),histtype='stepfilled', alpha=0.2, bins=bin,label='Trained')\n",
        "n_fin = n_max-inc\n",
        "ax2.set_ylim([0,35])\n",
        "ax2.set_xlabel('Eigenvalues of $WW^T$ when n=%d'% n_fin)\n",
        "ax2.legend()\n",
        "\n",
        "ax3.errorbar(n_list, np.mean(NN_weight_diff[:,:,0],axis=1), yerr=np.std(NN_weight_diff[:,:,0],axis=1),elinewidth=3,label='Largest eigenvalue difference')\n",
        "ax3.errorbar(n_list, np.mean(NN_weight_diff[:,:,1],axis=1), yerr=np.std(NN_weight_diff[:,:,1],axis=1),elinewidth=3,label='$\\|W_0-W_f\\|_2$')\n",
        "ax3.errorbar(n_list, np.mean(NN_weight_diff[:,:,2],axis=1), yerr=np.std(NN_weight_diff[:,:,2],axis=1),elinewidth=3,label='$\\|W_0-W_f\\|_{\\text{Frob}}$')\n",
        "#ax3.plot(n_list,NN_weight_diff[:,0],color='g',linewidth=3,label='Largest eigenvalue difference')\n",
        "#ax3.plot(n_list,NN_weight_diff[:,1],color='r',linewidth=3,label='$\\|W_0-W_s\\|_2$')\n",
        "ax3.set_xlabel('Sample Dimension n')\n",
        "ax3.title.set_text('Weight differences, $h/n=$%g'% gamma2)\n",
        "ax3.legend()\n",
        "\n",
        "fig.tight_layout(pad=1.5)\n",
        "fig.savefig('Weight difference gamma1=%g gamma2=%g.png'% (gamma1,gamma2))"
      ],
      "execution_count": null,
      "outputs": []
    },
    {
      "cell_type": "code",
      "metadata": {
        "id": "a1aqwUg5Yg99"
      },
      "source": [
        "# spectrum of NTK and CK\n",
        "_,s2,_ = torch.svd(CK0)\n",
        "_,s3,_ = torch.svd(CK1)\n",
        "_,s4,_ = torch.svd(NTK0)\n",
        "_,s5,_ = torch.svd(NTKs)"
      ],
      "execution_count": null,
      "outputs": []
    },
    {
      "cell_type": "code",
      "metadata": {
        "id": "VBfvwNRvpnLE"
      },
      "source": [
        "plt.figure(0)\n",
        "FONT_SIZE = 12\n",
        "plt.rc('font',size=FONT_SIZE)\n",
        "fig, (ax1,ax2,ax3,ax4) = plt.subplots(1,4,figsize=(22,5))\n",
        "bin = 50\n",
        "\n",
        "#histeig(s2.cpu().numpy(), ax2, xgrid=None, dgrid=None, bins=bin, xlim=None, ylim=None, title='initial')\n",
        "#histeig(s3.cpu().numpy(), ax2, xgrid=None, dgrid=None, bins=bin, xlim=None, ylim=None, title=None)\n",
        "ax1.hist(s2.cpu().numpy(),histtype='stepfilled', alpha=0.2, bins=bin,label='Initialized')\n",
        "ax1.hist(s3.cpu().numpy(),histtype='stepfilled', alpha=0.2, bins=bin,label='Trained')\n",
        "n_fin = n_max-inc\n",
        "ax1.set_ylim([0,75])\n",
        "ax1.set_xlabel('Eigenvalues of CK when n=%d'% n_fin)\n",
        "ax1.legend()\n",
        "\n",
        "#histeig(s4.cpu().numpy(), ax2, xgrid=None, dgrid=None, bins=bin, xlim=None, ylim=None, title='initial')\n",
        "#histeig(s5.cpu().numpy(), ax2, xgrid=None, dgrid=None, bins=bin, xlim=None, ylim=None, title=None)\n",
        "ax2.hist(s4.cpu().numpy(),histtype='stepfilled', alpha=0.2, bins=bin,label='Initialized')\n",
        "ax2.hist(s5.cpu().numpy(),histtype='stepfilled', alpha=0.2, bins=bin,label='Trained')\n",
        "n_fin = n_max-inc\n",
        "ax2.set_ylim([0,75])\n",
        "ax2.set_xlabel('Eigenvalues of NTK when n=%d'% n_fin)\n",
        "ax2.legend()\n",
        "\n",
        "ax3.errorbar(n_list, np.mean(NN_weight_diff[:,:,3],axis=1), yerr=np.std(NN_weight_diff[:,:,3],axis=1),elinewidth=3,label='$\\|CK_0-CK_s\\|_2$')\n",
        "ax3.errorbar(n_list, np.mean(NN_weight_diff[:,:,4],axis=1), yerr=np.std(NN_weight_diff[:,:,4],axis=1),elinewidth=3,label='$\\|CK_0-CK_s\\|_{\\text{Frob}}$')\n",
        "ax3.set_xlabel('Sample Dimension $n$')\n",
        "ax3.title.set_text('$d/n=$%g, $h/n=$%g'% (gamma1,gamma2))\n",
        "ax3.legend()\n",
        "\n",
        "\n",
        "ax4.errorbar(n_list, np.mean(NN_weight_diff[:,:,5],axis=1), yerr=np.std(NN_weight_diff[:,:,5],axis=1),elinewidth=3,label='$\\|NTK_0-NTK_s\\|_2$')\n",
        "ax4.errorbar(n_list, np.mean(NN_weight_diff[:,:,6],axis=1), yerr=np.std(NN_weight_diff[:,:,6],axis=1),elinewidth=3,label='$\\|NTK_0-NTK_s\\|_{\\text{Frob}}$')\n",
        "ax4.set_xlabel('Sample Dimension $n$')\n",
        "ax4.title.set_text('$d/n=$%g, $h/n=$%g'% (gamma1,gamma2))\n",
        "ax4.legend()\n",
        "\n",
        "fig.tight_layout(pad=1.5)\n",
        "fig.savefig('CK and NTK difference gamma1=%f gamma2=%f.png'% (gamma1,gamma2))"
      ],
      "execution_count": null,
      "outputs": []
    },
    {
      "cell_type": "code",
      "metadata": {
        "id": "ChKYXUQl0Ghf",
        "colab": {
          "base_uri": "https://localhost:8080/",
          "height": 279
        },
        "outputId": "0f8163ba-9e99-4bda-dadc-71dc181081e1"
      },
      "source": [
        "a = [1,2,3,4,5,6]\n",
        "b = [1,4,9,16,25,36]\n",
        "fig,ax = plt.subplots(1,1)\n",
        "ax.plot(a,b,linewidth=3,label='$\\|CK_0-CK_s\\|_{Frob}$')\n",
        "ax.legend()"
      ],
      "execution_count": null,
      "outputs": [
        {
          "output_type": "execute_result",
          "data": {
            "text/plain": [
              "<matplotlib.legend.Legend at 0x7f5f97bc7e90>"
            ]
          },
          "metadata": {
            "tags": []
          },
          "execution_count": 9
        },
        {
          "output_type": "display_data",
          "data": {
            "image/png": "[encoded data removed]",
            "text/plain": [
              "<Figure size 432x288 with 1 Axes>"
            ]
          },
          "metadata": {
            "tags": [],
            "needs_background": "light"
          }
        }
      ]
    },
    {
      "cell_type": "code",
      "metadata": {
        "id": "tdxDFe6RECD_"
      },
      "source": [
        ""
      ],
      "execution_count": null,
      "outputs": []
    }
  ]
}