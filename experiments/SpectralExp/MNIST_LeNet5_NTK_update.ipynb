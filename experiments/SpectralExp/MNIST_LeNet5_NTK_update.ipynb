{
 "cells": [
  {
   "cell_type": "code",
   "execution_count": 1,
   "id": "8f6ea525",
   "metadata": {},
   "outputs": [],
   "source": [
    "import numpy as np\n",
    "import torch\n",
    "\n",
    "import matplotlib.pyplot as plt\n",
    "%matplotlib inline\n",
    "\n",
    "import torch\n",
    "from torch import nn, optim\n",
    "from torch import load\n",
    "from torch.nn import functional as F\n",
    "from torch import autograd\n",
    "\n",
    "from torch.utils.data import TensorDataset\n",
    "from torch.utils.data import DataLoader\n",
    "\n",
    "from NTKs import calculate_NTK\n",
    "from einops import rearrange\n",
    "\n",
    "import time\n",
    "\n",
    "import sys\n",
    "from pathlib import Path"
   ]
  },
  {
   "cell_type": "code",
   "execution_count": 2,
   "id": "d5e13def",
   "metadata": {},
   "outputs": [],
   "source": [
    "cuda = True\n",
    "\n",
    "epochs = 10\n",
    "batch_size = 64\n",
    "learning_rate = 5e-2\n",
    "n_workers = 1\n",
    "\n",
    "#COMPUTE HESSIAN must be true for either save full hessian or saveing exact EST\n",
    "SAVE_WEIGHTS = False\n",
    "SAVE_HESSIAN = False\n",
    "SAVE_NTK = False\n",
    "TEST=False\n",
    "\n",
    "HOW_MANY_MNIST = 60_000 #instead of using the full mnist training data, using randomly sampled subset\n",
    "optimizer_keyword = 'SGD' #or 'GD'\n",
    "\n",
    "#filename = sys.argv[1]\n",
    "filename = 'MLP_efficeint_SGD_spectralnorm'\n",
    "\n",
    "IMAGE_DIR = '../IMAGES/{}/'.format(filename)\n",
    "MODEL_DIR = '../MODELS/'+filename+'/'\n",
    "DATA_DIR = '../DATA/'\n",
    "HESS_DIR = '../HESS/FULL/{}/'.format(filename)\n",
    "NTK_DIR = '../NTK/EXACT/{}/'.format(filename)\n",
    "CONJUGATE_DIR = '../CONJUGATE_KERNEL/{}/'.format(filename)\n",
    "\n",
    "device = torch.device(\"cuda\" if cuda else \"cpu\")\n",
    "kwargs = {'num_workers': 1, 'pin_memory': True} if cuda else {}"
   ]
  },
  {
   "cell_type": "code",
   "execution_count": 3,
   "id": "f9b32eda",
   "metadata": {},
   "outputs": [],
   "source": [
    "data = load(DATA_DIR+'training.pt')\n",
    "mnist_digits = data[0]\n",
    "mnist_labels = data[1]\n",
    "\n",
    "np_tensor = mnist_digits.numpy()\n",
    "label_np = mnist_labels.numpy()\n",
    "#np.random.shuffle(np_tensor) #multidimensional arrays are shuffled along their first axis only\n",
    "\n",
    "\n",
    "np.random.seed(0)\n",
    "\n",
    "if HOW_MANY_MNIST:\n",
    "    indices = np.arange(0,60_000)\n",
    "    np.random.shuffle(indices)\n",
    "    \n",
    "    np_tensor = np_tensor[indices,][0:HOW_MANY_MNIST,]\n",
    "    label_np = label_np[indices,][0:HOW_MANY_MNIST,]\n",
    "\n",
    "expanded = np.expand_dims(np_tensor, -1).astype(\"float32\") / 255\n",
    "\n",
    "expanded = rearrange(expanded,'b h w c -> b c h w')\n",
    "\n",
    "# wrap tensors into a dataset\n",
    "train_ds = TensorDataset(torch.from_numpy(expanded), torch.from_numpy(label_np))\n",
    "if optimizer_keyword == 'SGD':\n",
    "    train_dl = DataLoader(train_ds, batch_size=batch_size, shuffle=True, num_workers=n_workers)\n",
    "if optimizer_keyword == 'GD':\n",
    "    #I beleive this is the only difference\n",
    "    train_dl = DataLoader(train_ds, batch_size=HOW_MANY_MNIST or 60_000, shuffle=True, num_workers=n_workers)\n",
    "    \n",
    "NTK_dl = DataLoader(train_ds, batch_size=HOW_MANY_MNIST or 60_000, shuffle=False, num_workers=n_workers)"
   ]
  },
  {
   "cell_type": "code",
   "execution_count": 4,
   "id": "14129f92",
   "metadata": {},
   "outputs": [],
   "source": [
    "data = load(DATA_DIR+'test.pt')\n",
    "mnist_digits_test = data[0]\n",
    "mnist_labels_test = data[1]\n",
    "\n",
    "np_tensor = mnist_digits_test.numpy()\n",
    "expanded_test = np.expand_dims(np_tensor, -1).astype(\"float32\") / 255\n",
    "expanded_test = rearrange(expanded_test,'b h w c -> b c h w')\n",
    "# wrap tensors into a dataset\n",
    "test_ds = TensorDataset(torch.from_numpy(expanded_test), mnist_labels_test)\n",
    "test_dl = DataLoader(test_ds, batch_size=batch_size, shuffle=False, num_workers=n_workers)"
   ]
  },
  {
   "cell_type": "markdown",
   "id": "c2a747ba",
   "metadata": {},
   "source": [
    "# Architecture"
   ]
  },
  {
   "cell_type": "code",
   "execution_count": 102,
   "id": "371cfadd",
   "metadata": {},
   "outputs": [],
   "source": [
    "def relu(X,normalize=True):\n",
    "    X = F.relu(X)\n",
    "    if normalize:\n",
    "        return np.sqrt(2*np.pi/(np.pi-1))*(X-1/np.sqrt(2*np.pi))\n",
    "    else:\n",
    "        return X\n",
    "\n",
    "class MNIST_LeNet5(torch.nn.Module):\n",
    "    '''\n",
    "    Instead, lets use the principles of LeNet5 and combine with modern techniques\n",
    "    \n",
    "    Basically, I'm going to use padding and a kernel size of 3 instead.\n",
    "    '''\n",
    "    def __init__(self,channels_in=1):\n",
    "        super(MNIST_LeNet5, self).__init__()\n",
    "        \n",
    "        self.c1 = torch.nn.Conv2d(channels_in,6,kernel_size=3,padding=1) #28,28 -> 28x28\n",
    "        self.pool1 = torch.nn.AvgPool2d(kernel_size=2,stride=2) #14,14\n",
    "        \n",
    "        self.c2 = torch.nn.Conv2d(6,16,kernel_size=3,stride=1,padding=1) #14,14 -> 14x14\n",
    "        self.pool2 = torch.nn.AvgPool2d(kernel_size=2,stride=2) #14x14 -> 7x7\n",
    "        \n",
    "        self.l1 = torch.nn.Linear(16*7*7,120)\n",
    "        self.l2 = torch.nn.Linear(120,84)\n",
    "        self.l3 = torch.nn.Linear(84,10)\n",
    "        \n",
    "        \n",
    "    def forward(self,x):\n",
    "        x = torch.nn.functional.tanh(self.c1(x))\n",
    "        x = torch.nn.functional.tanh(self.pool1(x))\n",
    "        \n",
    "        x = torch.nn.functional.tanh(self.c2(x))\n",
    "        x = torch.nn.functional.tanh(self.pool2(x))\n",
    "        \n",
    "        x = x.reshape(-1,16*7*7)\n",
    "        \n",
    "        x = torch.nn.functional.tanh(self.l1(x))\n",
    "        x = torch.nn.functional.tanh(self.l2(x))\n",
    "        x = torch.nn.functional.log_softmax(self.l3(x),dim=1)\n",
    "        \n",
    "        return x"
   ]
  },
  {
   "cell_type": "code",
   "execution_count": 103,
   "id": "9e4c9e21",
   "metadata": {},
   "outputs": [],
   "source": [
    "class Vanilla_CNN(torch.nn.Module):\n",
    "    def __init__(self,channels_in=1):\n",
    "        super(Vanilla_CNN, self).__init__()\n",
    "        \n",
    "        self.c1 = torch.nn.Conv2d(channels_in,128,kernel_size=5,padding=0,bias=False) #24x24\n",
    "        \n",
    "        self.l1 = torch.nn.Linear(128*24*24,1,bias=False)\n",
    "        \n",
    "    def forward(self,x):\n",
    "        x = relu(self.c1(x)) * (1/np.sqrt(6* 5 * 5))\n",
    "        print(x.shape)\n",
    "        x = x.view(x.shape[0],-1)\n",
    "        x = self.l1(x)\n",
    "        return x"
   ]
  },
  {
   "cell_type": "code",
   "execution_count": 104,
   "id": "25dd0fd8",
   "metadata": {},
   "outputs": [
    {
     "data": {
      "text/plain": [
       "Vanilla_CNN(\n",
       "  (c1): Conv2d(1, 128, kernel_size=(5, 5), stride=(1, 1), bias=False)\n",
       "  (l1): Linear(in_features=73728, out_features=1, bias=False)\n",
       ")"
      ]
     },
     "execution_count": 104,
     "metadata": {},
     "output_type": "execute_result"
    }
   ],
   "source": [
    "device='cpu'\n",
    "model = Vanilla_CNN()\n",
    "model.to(device)"
   ]
  },
  {
   "cell_type": "code",
   "execution_count": 105,
   "id": "1a89254e",
   "metadata": {},
   "outputs": [
    {
     "name": "stdout",
     "output_type": "stream",
     "text": [
      "Num Params:  76928\n"
     ]
    }
   ],
   "source": [
    "print('Num Params: ',sum(p.numel() for p in model.parameters() if p.requires_grad))"
   ]
  },
  {
   "cell_type": "code",
   "execution_count": 106,
   "id": "db328fd9",
   "metadata": {},
   "outputs": [
    {
     "name": "stdout",
     "output_type": "stream",
     "text": [
      "torch.Size([128, 1, 5, 5])\n",
      "torch.Size([1, 73728])\n"
     ]
    },
    {
     "data": {
      "text/plain": [
       "Vanilla_CNN(\n",
       "  (c1): Conv2d(1, 128, kernel_size=(5, 5), stride=(1, 1), bias=False)\n",
       "  (l1): Linear(in_features=73728, out_features=1, bias=False)\n",
       ")"
      ]
     },
     "execution_count": 106,
     "metadata": {},
     "output_type": "execute_result"
    }
   ],
   "source": [
    "#https://discuss.pytorch.org/t/how-to-fix-define-the-initialization-weights-seed/20156/3\n",
    "def selfnormalizing_weights(m):\n",
    "    if isinstance(m, nn.Linear):\n",
    "        print(m.weight.shape)\n",
    "        nn.init.normal_(m.weight.data,0,1/np.sqrt(m.weight.shape[0])) \n",
    "        if m.bias != None:\n",
    "            nn.init.normal_(m.bias.data,0,1/np.sqrt(m.weight.shape[0]))\n",
    "    if isinstance(m, nn.Conv2d):\n",
    "        print(m.weight.shape)\n",
    "        nn.init.normal_(m.weight.data,0,1/np.sqrt(m.weight.shape[0])) \n",
    "        if m.bias != None:\n",
    "            nn.init.normal_(m.bias.data,0,1/np.sqrt(m.weight.shape[0]))\n",
    "            \n",
    "def NTK_weights(m):\n",
    "    if isinstance(m, nn.Linear):\n",
    "        print(m.weight.shape)\n",
    "        nn.init.normal_(m.weight.data)#/m.weight.shape[0]\n",
    "        if m.bias != None:\n",
    "            nn.init.normal_(m.bias.data)#/m.weight.shape[0]\n",
    "    if isinstance(m, nn.Conv2d):\n",
    "        print(m.weight.shape)\n",
    "        nn.init.normal_(m.weight.data)#/m.weight.shape[0]\n",
    "        if m.bias != None:\n",
    "            nn.init.normal_(m.bias.data)#/m.weight.shape[0]\n",
    "\n",
    "model.apply(NTK_weights)"
   ]
  },
  {
   "cell_type": "code",
   "execution_count": 109,
   "id": "324704d1",
   "metadata": {},
   "outputs": [
    {
     "name": "stdout",
     "output_type": "stream",
     "text": [
      "torch.Size([100, 128, 24, 24])\n"
     ]
    }
   ],
   "source": [
    "#has to be done on the CPU for reasons of we're doing something that pytorch thinks is werid\n",
    "x_test_ntk = torch.from_numpy(np.random.normal(0,1.0,size=(100,1,28,28)).astype(np.float32))/28\n",
    "\n",
    "NTK = calculate_NTK(model,x_test_ntk,device=device)"
   ]
  },
  {
   "cell_type": "markdown",
   "id": "4b469dcb",
   "metadata": {},
   "source": [
    "# Train"
   ]
  },
  {
   "cell_type": "code",
   "execution_count": 13,
   "id": "ab5dc33e",
   "metadata": {},
   "outputs": [
    {
     "data": {
      "text/plain": [
       "MNIST_LeNet5(\n",
       "  (c1): Conv2d(1, 6, kernel_size=(3, 3), stride=(1, 1), padding=(1, 1))\n",
       "  (pool1): AvgPool2d(kernel_size=2, stride=2, padding=0)\n",
       "  (c2): Conv2d(6, 16, kernel_size=(3, 3), stride=(1, 1), padding=(1, 1))\n",
       "  (pool2): AvgPool2d(kernel_size=2, stride=2, padding=0)\n",
       "  (l1): Linear(in_features=784, out_features=120, bias=True)\n",
       "  (l2): Linear(in_features=120, out_features=84, bias=True)\n",
       "  (l3): Linear(in_features=84, out_features=10, bias=True)\n",
       ")"
      ]
     },
     "execution_count": 13,
     "metadata": {},
     "output_type": "execute_result"
    }
   ],
   "source": [
    "device='cuda'\n",
    "model.to(device)"
   ]
  },
  {
   "cell_type": "code",
   "execution_count": 14,
   "id": "d5d0be1f",
   "metadata": {},
   "outputs": [],
   "source": [
    "optimizer = optim.SGD(model.parameters(), lr=learning_rate)"
   ]
  },
  {
   "cell_type": "code",
   "execution_count": 15,
   "id": "addb264f",
   "metadata": {},
   "outputs": [
    {
     "name": "stdout",
     "output_type": "stream",
     "text": [
      "number of model params:  106154\n"
     ]
    }
   ],
   "source": [
    "pytorch_total_params = sum(p.numel() for p in model.parameters())\n",
    "print('number of model params: ',pytorch_total_params)"
   ]
  },
  {
   "cell_type": "code",
   "execution_count": 16,
   "id": "06669217",
   "metadata": {},
   "outputs": [],
   "source": [
    "def train(epoch):\n",
    "    model.train()\n",
    "    train_loss_tracker = []\n",
    "    epoch_begin=time.time()\n",
    "    \n",
    "    correct=0\n",
    "    for batch_idx, (data, y) in enumerate(train_dl):\n",
    "        data = data.to(device)\n",
    "        y = y.to(device)\n",
    "        optimizer.zero_grad()\n",
    "        y_hat = model(data)\n",
    "        loss = torch.nn.functional.nll_loss(y_hat, y)  \n",
    "        loss.backward() #this is probably re-calculating the gradients...\n",
    "        optimizer.step()\n",
    "        \n",
    "        train_loss_tracker.append(loss.item())\n",
    "       \n",
    "    epoch_loss = np.mean(train_loss_tracker)\n",
    "    \n",
    "    return epoch_loss\n",
    "\n",
    "def test(epoch):\n",
    "    model.eval()\n",
    "    test_loss_tracker = []\n",
    "    with torch.no_grad():\n",
    "        correct=0\n",
    "        for batch_idx, (data, y) in enumerate(test_dl):\n",
    "            data = data.to(device)\n",
    "            y = y.to(device)\n",
    "            y_hat = model(data)\n",
    "            loss = torch.nn.functional.nll_loss(y_hat, y)\n",
    "            \n",
    "            pred = y_hat.data.max(1, keepdim=True)[1]\n",
    "            correct += int(pred.eq(y.data.view_as(pred)).sum().to('cpu'))\n",
    "            \n",
    "            test_loss_tracker.append(loss.item())\n",
    "            \n",
    "            \n",
    "        return np.mean(test_loss_tracker), 100.* correct/len(test_dl.dataset)"
   ]
  },
  {
   "cell_type": "code",
   "execution_count": 17,
   "id": "0b3d3b36",
   "metadata": {},
   "outputs": [
    {
     "name": "stdout",
     "output_type": "stream",
     "text": [
      "Epoch: 1, Time: 14.25, Train Loss: 1.81824, Test Loss: 1.31504, Test Acc: 52.87\n",
      "Epoch: 2, Time: 5.25, Train Loss: 1.08159, Test Loss: 0.82022, Test Acc: 74.71\n",
      "Epoch: 3, Time: 5.1, Train Loss: 0.81457, Test Loss: 0.79719, Test Acc: 74.06\n",
      "Epoch: 4, Time: 5.03, Train Loss: 0.69367, Test Loss: 0.67768, Test Acc: 78.96\n",
      "Epoch: 5, Time: 5.12, Train Loss: 0.61293, Test Loss: 0.65094, Test Acc: 80.47\n",
      "Epoch: 6, Time: 5.11, Train Loss: 0.56008, Test Loss: 0.57934, Test Acc: 82.96\n",
      "Epoch: 7, Time: 5.07, Train Loss: 0.5181, Test Loss: 0.50211, Test Acc: 85.96\n",
      "Epoch: 8, Time: 5.11, Train Loss: 0.48042, Test Loss: 0.44652, Test Acc: 87.21\n",
      "Epoch: 9, Time: 5.12, Train Loss: 0.45316, Test Loss: 0.49924, Test Acc: 85.85\n",
      "Epoch: 10, Time: 5.18, Train Loss: 0.42747, Test Loss: 0.39558, Test Acc: 88.91\n"
     ]
    }
   ],
   "source": [
    "train_loss_history = []\n",
    "test_loss_history = []\n",
    "train_acc_history = []\n",
    "test_acc_history = []\n",
    "\n",
    "for epoch in range(1,epochs+1):\n",
    "    T_start = time.time()\n",
    "    \n",
    "    epoch_loss = train(epoch)\n",
    "    train_loss_history.append(epoch_loss)\n",
    "    #Now our test metrics\n",
    "    epoch_loss, acc = test(epoch)\n",
    "    test_loss_history.append(epoch_loss)\n",
    "    test_acc_history.append(acc)\n",
    "    #Now pring some diagnostic to the user\n",
    "    print('Epoch: {}, Time: {}, Train Loss: {}, Test Loss: {}, Test Acc: {}'.format(\n",
    "    epoch,\n",
    "    np.round(time.time() - T_start,2),\n",
    "    np.round(train_loss_history[-1],5),\n",
    "    np.round(test_loss_history[-1],5),\n",
    "    np.round(test_acc_history[-1],5),\n",
    "    ),flush=True)\n",
    "    \n",
    "    \n",
    "#record_stuff_for_NTK('CK-final.pt')\n",
    "#torch.save(model.state_dict(),MODEL_DIR+filename+'-final')\n",
    "    \n",
    "history_dict = {}\n",
    "history_dict['train_loss'] = train_loss_history\n",
    "history_dict['test_loss'] = test_loss_history\n",
    "history_dict['train_acc'] = train_acc_history\n",
    "history_dict['test_acc'] = test_acc_history\n",
    "history_dict['batch_size'] = batch_size\n",
    "history_dict['learning_rate'] = learning_rate\n",
    "\n",
    "#np.save(MODEL_DIR + 'history.npy',history_dict)"
   ]
  },
  {
   "cell_type": "code",
   "execution_count": 18,
   "id": "f2517e79",
   "metadata": {},
   "outputs": [],
   "source": [
    "device='cpu'\n",
    "model.to(device)\n",
    "\n",
    "x_test_ntk = torch.from_numpy(expanded_test[0:200,])\n",
    "NTK_after = calculate_NTK(model,x_test_ntk)"
   ]
  },
  {
   "cell_type": "code",
   "execution_count": 112,
   "id": "2a530d8e",
   "metadata": {},
   "outputs": [
    {
     "data": {
      "image/png": "[encoded data removed]",
      "text/plain": [
       "<Figure size 432x288 with 1 Axes>"
      ]
     },
     "metadata": {
      "needs_background": "light"
     },
     "output_type": "display_data"
    }
   ],
   "source": [
    "eigenvalues, eigenvectors = np.linalg.eigh(NTK)\n",
    "plt.hist(eigenvalues.flatten(),np.logspace(1,np.log10(np.max(eigenvalues)),50,base=10),density=False,histtype='step',label='before')\n",
    "#eigenvalues, eigenvectors = np.linalg.eigh(NTK_after)\n",
    "#plt.hist(eigenvalues.flatten(),np.logspace(np.log10(np.min(eigenvalues)),np.log10(np.max(eigenvalues)),50,base=10),density=False,histtype='step',label='after')\n",
    "plt.xscale('log')\n",
    "plt.title('Empirical NTK Eigenspectra 1 Layer Vanilla CNN with 100 Gasussian data points')\n",
    "plt.legend()\n",
    "plt.show()"
   ]
  },
  {
   "cell_type": "code",
   "execution_count": 117,
   "id": "8b5d7d6c",
   "metadata": {
    "scrolled": true
   },
   "outputs": [
    {
     "data": {
      "image/png": "[encoded data removed]",
      "text/plain": [
       "<Figure size 432x288 with 1 Axes>"
      ]
     },
     "metadata": {
      "needs_background": "light"
     },
     "output_type": "display_data"
    }
   ],
   "source": [
    "eigenvalues, eigenvectors = np.linalg.eigh(NTK)\n",
    "plt.hist(eigenvalues.flatten(),np.linspace(10,75,50,),density=False,histtype='step',label='before')\n",
    "#eigenvalues, eigenvectors = np.linalg.eigh(NTK_after)\n",
    "#plt.hist(eigenvalues.flatten(),np.logspace(np.log10(np.min(eigenvalues)),np.log10(np.max(eigenvalues)),50,base=10),density=False,histtype='step',label='after')\n",
    "plt.xscale('linear')\n",
    "plt.title('Empirical NTK Eigenspectra 1 Layer Vanilla CNN with 100 Gasussian data points')\n",
    "plt.legend()\n",
    "plt.show()"
   ]
  }
 ],
 "metadata": {
  "kernelspec": {
   "display_name": "Python 3",
   "language": "python",
   "name": "python3"
  },
  "language_info": {
   "codemirror_mode": {
    "name": "ipython",
    "version": 3
   },
   "file_extension": ".py",
   "mimetype": "text/x-python",
   "name": "python",
   "nbconvert_exporter": "python",
   "pygments_lexer": "ipython3",
   "version": "3.9.6"
  }
 },
 "nbformat": 4,
 "nbformat_minor": 5
}
