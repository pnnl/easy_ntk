{
  "nbformat": 4,
  "nbformat_minor": 0,
  "metadata": {
    "colab": {
      "name": "NTK.ipynb",
      "provenance": []
    },
    "kernelspec": {
      "name": "python3",
      "display_name": "Python 3"
    },
    "language_info": {
      "name": "python"
    }
  },
  "cells": [
    {
      "cell_type": "code",
      "metadata": {
        "id": "0SxpUP6Cp62I"
      },
      "source": [
        "import numpy as np\n",
        "import matplotlib\n",
        "import matplotlib.pyplot as plt\n",
        "import pickle\n",
        "import os"
      ],
      "execution_count": null,
      "outputs": []
    },
    {
      "cell_type": "code",
      "metadata": {
        "id": "pVz305sqt7u2"
      },
      "source": [
        "font = {'size': 15}\n",
        "matplotlib.rc('font', **font)\n",
        "np.random.seed(321)\n",
        "\n",
        "# Setting parameters\n",
        "sample_dim = 1000\n",
        "test_sample_dim = 800\n",
        "input_dim = 200\n",
        "weight_dim = 1000\n",
        "weight_dim_true = 10\n",
        "learning_rate = 0.6\n",
        "batch = 256\n",
        "epoch = 900\n",
        "t_n = 1.0 / np.sqrt(weight_dim)\n",
        "s_n = 1.0 / np.sqrt(input_dim)\n",
        "L = 1"
      ],
      "execution_count": null,
      "outputs": []
    },
    {
      "cell_type": "code",
      "metadata": {
        "id": "jJGKCxaUtx4O"
      },
      "source": [
        "# Sigmoid Nonlinearity\n",
        "def sigma(x):\n",
        "  return np.arctan(x)/np.sqrt(0.4497)\n",
        "\n",
        "def dsigma(x):\n",
        "  return 1/(1+x**2)/np.sqrt(0.4497)\n",
        "\n",
        "a = 1.11185 # E[sigma'(xi)^2]\n",
        "b = 0.977755 # E[sigma'(xi)]\n",
        "\n",
        "\n",
        "# Define the nonlinear activation function\n",
        "c = np.sqrt(0.21747 / (2 * np.sqrt(2 * np.pi)))\n",
        "\n",
        "\n",
        "def activ_function(x):\n",
        "    return (keras.backend.sigmoid(x) - 0.5) / c\n",
        "\n",
        "\n",
        "b = 2 * (0.258961) / np.sqrt(2 * np.pi) / 0.208276\n",
        "a = 2 * 0.0561939 / (np.sqrt(2 * np.pi) * (c ** 2))\n",
        "\n",
        "\n",
        "def dactiv_function(x):\n",
        "    return np.exp(-x) / (((1 + np.exp(-x)) ** 2) * c)"
      ],
      "execution_count": null,
      "outputs": []
    },
    {
      "cell_type": "code",
      "metadata": {
        "id": "3nma7iHtqB1x"
      },
      "source": [
        "# Helper function\n",
        "ylim = [0, 70]\n",
        "#xlim = [0, 0.05]\n",
        "bins = 50\n",
        "\n",
        "def cross(X):\n",
        "    return np.dot(np.transpose(X),X)\n",
        "\n",
        "\n",
        "# Histogram eigenvalues of each X'X\n",
        "def histeig(eigs, ax, xgrid=None, dgrid=None, bins=100, xlim=None, ylim=None, title=None):\n",
        "    if xlim is not None:\n",
        "        eigs = eigs[np.nonzero(eigs <= xlim[1])[0]]\n",
        "        h = ax.hist(eigs, bins=np.linspace(xlim[0], xlim[1], num=bins))\n",
        "    else:\n",
        "        h = ax.hist(eigs, bins=bins)\n",
        "    if xgrid is not None:\n",
        "        space = h[1][1] - h[1][0]\n",
        "        ax.plot(xgrid, dgrid * len(eigs) * space, 'r', label='Prediction at initial', linewidth=2)\n",
        "        ax.legend()\n",
        "    ax.set_title(title, fontsize=12)\n",
        "    ax.set_xlim(xlim)\n",
        "    if ylim is None:\n",
        "        ax.set_ylim([0, max(h[0]) * 1.5])\n",
        "    else:\n",
        "        ax.set_ylim(ylim)\n",
        "    return ax"
      ],
      "execution_count": null,
      "outputs": []
    },
    {
      "cell_type": "code",
      "metadata": {
        "id": "8AA_nsQTqYIZ"
      },
      "source": [
        "# Ws = [W1, W2, ..., WL, w]\n",
        "# Xs = [X0,X1, ..., XL]\n",
        "# d = [d0, d1, ..., dL]\n",
        "def compute_NTK(Ws,Xs,d):\n",
        "  L = len(Xs)-1\n",
        "  n = Xs[0].shape[1]\n",
        "  Ds = [[]]\n",
        "  for l in range(L):\n",
        "    Ds.append(dsigma(np.dot(Ws[l],Xs[l])))\n",
        "  KNTK = cross(Xs[L])\n",
        "  for l in range(1,L+1):\n",
        "    XtX = cross(Xs[l-1])\n",
        "    S = np.zeros((d[l],n))\n",
        "    for i in range(n):\n",
        "      s = Ws[-1].reshape(-1)/np.sqrt(d[L])\n",
        "      for k in range(L,l-1,-1):\n",
        "        s = Ds[k][:,i]*s\n",
        "        if k > l:\n",
        "          s = np.dot(np.transpose(Ws[k-1]),s)/np.sqrt(d[k-1])\n",
        "      S[:,i] = s\n",
        "    KNTK += cross(S) * XtX\n",
        "  return KNTK"
      ],
      "execution_count": null,
      "outputs": []
    },
    {
      "cell_type": "code",
      "metadata": {
        "id": "hIrD4E7lqH-E"
      },
      "source": [
        "def simulate(X0,Y0,d,xlim=None,ylim=None,ylimNTK=None,bins=50,fname=''):\n",
        "  n = X0.shape[1]\n",
        "  d0 = X0.shape[0]\n",
        "  L = len(d)\n",
        "  d = np.array([d0] + list(d))  \n",
        "  # Compute X_1,...,X_L\n",
        "  print('Computing forward propagation')\n",
        "  if os.path.exists('%s_matrices.pkl' % fname):\n",
        "    dat = pickle.load(open('%s_matrices.pkl' % fname, 'rb'))\n",
        "    Xs = dat['Xs']\n",
        "    KNTK = dat['NTK']\n",
        "  else:\n",
        "    Ws = []\n",
        "    Xs = [X0]\n",
        "    for l in range(1,L+1):\n",
        "      W = np.random.normal(size=(d[l],d[l-1]))\n",
        "      Ws.append(W)\n",
        "      X = sigma(np.dot(W,Xs[l-1]))/np.sqrt(d[l])\n",
        "      Xs.append(X)\n",
        "    w = np.random.normal(size=d[L])\n",
        "    Ws.append(w)\n",
        "    f = np.dot(np.transpose(w),Xs[L]) # This is final prediction; not used\n",
        "  # Compare with prediction for spectrum of X'X\n",
        "  spec = np.linalg.eigvalsh(cross(Xs[0]))\n",
        "  gamma = n/np.array(d[1:])\n",
        "  for l in range(1,L+1):\n",
        "    print('Computing CK prediction, layer %d' % l)\n",
        "    f, ax = plt.subplots(1,1)\n",
        "    eigs = np.linalg.eigvalsh(cross(Xs[l]))\n",
        "    if xlim is None:\n",
        "      xgrid = np.linspace(max(eigs)*(-0.05),max(eigs)*1.2,num=1000)\n",
        "    else:\n",
        "      xgrid = np.linspace(xlim[0],xlim[1],num=1000)\n",
        "    #dgrid = CK(l,gamma[:l],b,xgrid,spec=spec)\n",
        "    histeig(eigs,ax,xgrid=None,dgrid=None,xlim=xlim,ylim=ylim,bins=bins,title='CK spectrum, layer %d' % l)\n",
        "    plt.savefig('%s_X%d.png' % (fname,l))\n",
        "  # Compute NTK\n",
        "  print('Computing NTK')\n",
        "  if not os.path.exists('%s_matrices.pkl' % fname):\n",
        "    KNTK = compute_NTK(Ws, Xs, d)\n",
        "  # Compare with prediction for spectrum of NTK\n",
        "  print('Computing NTK prediction')\n",
        "  eigs = np.linalg.eigvalsh(KNTK)\n",
        "  if xlim is None:\n",
        "    xgrid = np.linspace(max(eigs)*(-0.05),max(eigs)*1.2,num=1000)\n",
        "  else:\n",
        "    xgrid = np.linspace(xlim[0],xlim[1],num=1000)\n",
        "  #dgrid = NTK(L,gamma,a,b,xgrid,spec=spec)\n",
        "  f, ax = plt.subplots(1,1)\n",
        "  if ylimNTK is not None:\n",
        "    histeig(eigs,ax,xgrid=None,dgrid=None,xlim=xlim,ylim=ylimNTK,bins=bins,title='NTK spectrum')\n",
        "  else:\n",
        "    histeig(eigs,ax,xgrid=None,dgrid=None,xlim=xlim,ylim=ylim,bins=bins,title='NTK spectrum')\n",
        "  plt.savefig('%s_NTK.png' % fname)\n",
        "  mats = {'Xs':Xs, 'NTK':KNTK}\n",
        "  pickle.dump(mats, open('%s_matrices.pkl' % fname, 'wb'))\n",
        "  "
      ],
      "execution_count": null,
      "outputs": []
    },
    {
      "cell_type": "code",
      "metadata": {
        "id": "BUMNOX9Vqdlz",
        "colab": {
          "base_uri": "https://localhost:8080/",
          "height": 1000
        },
        "outputId": "61e660ff-684b-4865-a468-8131d1665b13"
      },
      "source": [
        "d = [3000,3000,3000]\n",
        "X0 = np.random.normal(size=(3000,60000))\n",
        "Y0= np.random.normal(size=(60000))\n",
        "simulate(X0,Y0,d)"
      ],
      "execution_count": null,
      "outputs": [
        {
          "output_type": "stream",
          "text": [
            "Computing forward propagation\n",
            "Computing CK prediction, layer 1\n",
            "Computing CK prediction, layer 2\n",
            "Computing CK prediction, layer 3\n",
            "Computing NTK\n",
            "Computing NTK prediction\n"
          ],
          "name": "stdout"
        },
        {
          "output_type": "display_data",
          "data": {
            "image/png": "[encoded data removed]",
            "text/plain": [
              "<Figure size 432x288 with 1 Axes>"
            ]
          },
          "metadata": {
            "tags": [],
            "needs_background": "light"
          }
        },
        {
          "output_type": "display_data",
          "data": {
            "image/png": "[encoded data removed]",
            "text/plain": [
              "<Figure size 432x288 with 1 Axes>"
            ]
          },
          "metadata": {
            "tags": [],
            "needs_background": "light"
          }
        },
        {
          "output_type": "display_data",
          "data": {
            "image/png": "[encoded data removed]",
            "text/plain": [
              "<Figure size 432x288 with 1 Axes>"
            ]
          },
          "metadata": {
            "tags": [],
            "needs_background": "light"
          }
        },
        {
          "output_type": "display_data",
          "data": {
            "image/png": "[encoded data removed]",
            "text/plain": [
              "<Figure size 432x288 with 1 Axes>"
            ]
          },
          "metadata": {
            "tags": [],
            "needs_background": "light"
          }
        }
      ]
    },
    {
      "cell_type": "code",
      "metadata": {
        "id": "BbGmap4Gvzr3"
      },
      "source": [
        ""
      ],
      "execution_count": null,
      "outputs": []
    }
  ]
}